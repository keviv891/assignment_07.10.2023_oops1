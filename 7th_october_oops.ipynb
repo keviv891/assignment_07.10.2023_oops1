{
 "cells": [
  {
   "cell_type": "markdown",
   "id": "d78c5c1e-e240-4761-819d-37b168b19362",
   "metadata": {},
   "source": [
    "1.Bank Account Create a class representing a bank account with attributes like account number, account holder name, and balance. Implement methods to deposit and withdraw money from the account.\n"
   ]
  },
  {
   "cell_type": "code",
   "execution_count": 1,
   "id": "6c518115-0cb3-46fc-962c-f750d621009a",
   "metadata": {},
   "outputs": [
    {
     "name": "stdout",
     "output_type": "stream",
     "text": [
      "Account balance: 1300\n"
     ]
    }
   ],
   "source": [
    "class BankAccount:\n",
    "    def __init__(self, account_number, account_holder, balance=0):\n",
    "        self.account_number = account_number\n",
    "        self.account_holder = account_holder\n",
    "        self.balance = balance\n",
    "\n",
    "    def deposit(self, amount):\n",
    "        self.balance += amount\n",
    "\n",
    "    def withdraw(self, amount):\n",
    "        if amount <= self.balance:\n",
    "            self.balance -= amount\n",
    "        else:\n",
    "            print(\"Insufficient funds\")\n",
    "\n",
    "# Example usage:\n",
    "account = BankAccount(\"6220\", \"vivek\", 1000)\n",
    "account.deposit(500)\n",
    "account.withdraw(200)\n",
    "print(f\"Account balance: {account.balance}\")\n"
   ]
  },
  {
   "cell_type": "markdown",
   "id": "6d090dfa-a9f8-41b4-93d3-f3a90e1bd472",
   "metadata": {},
   "source": [
    "Problem 2: Employee Management Create a class representing an employee with attributes like employee ID, name, and salary. Implement methods to calculate the yearly bonus and display employee details."
   ]
  },
  {
   "cell_type": "code",
   "execution_count": 6,
   "id": "6033029f-d2fb-4ef2-a54c-a597ff36f4cc",
   "metadata": {},
   "outputs": [
    {
     "name": "stdout",
     "output_type": "stream",
     "text": [
      "Employee ID: 1\n",
      "Name: vivek\n",
      "Salary: 1750000\n",
      "Yearly Bonus: 145775.0\n"
     ]
    }
   ],
   "source": [
    "class Employee: #class employee is created\n",
    "    def __init__(self, employee_id, name, salary): # required variables are declared\n",
    "        self.employee_id = employee_id\n",
    "        self.name = name\n",
    "        self.salary = salary\n",
    "\n",
    "    def calculate_bonus(self, bonus_percentage): #creatinbg function for calculating bonus\n",
    "        return (bonus_percentage / 100) * self.salary\n",
    "\n",
    "    def display_details(self): # will display the output details\n",
    "        print(f\"Employee ID: {self.employee_id}\")\n",
    "        print(f\"Name: {self.name}\")\n",
    "        print(f\"Salary: {self.salary}\")\n",
    "\n",
    "# Example usage:\n",
    "employee = Employee(1, \"vivek\", 1750000)\n",
    "bonus = employee.calculate_bonus(8.33)\n",
    "employee.display_details()\n",
    "print(f\"Yearly Bonus: {bonus}\")\n"
   ]
  },
  {
   "cell_type": "raw",
   "id": "2f1ee217-62e5-4543-bed4-0aefb50cb0b1",
   "metadata": {},
   "source": [
    "Problem 3: Vehicle Rental Create a class representing a vehicle rental system. Implement methods to rent a vehicle, return a vehicle, and display available vehicles."
   ]
  },
  {
   "cell_type": "code",
   "execution_count": 11,
   "id": "3b8309fa-4b36-4930-ae93-02836f260147",
   "metadata": {},
   "outputs": [
    {
     "name": "stdout",
     "output_type": "stream",
     "text": [
      "\n",
      "Menu:\n",
      "1. Rent a vehicle\n",
      "2. Return a vehicle\n",
      "3. Display available vehicles\n",
      "4. Exit\n"
     ]
    },
    {
     "name": "stdin",
     "output_type": "stream",
     "text": [
      "Enter your choice (1/2/3/4):  1\n",
      "How many vehicles do you want to rent?  2\n"
     ]
    },
    {
     "name": "stdout",
     "output_type": "stream",
     "text": [
      "Rented 2 vehicle(s).\n",
      "\n",
      "Menu:\n",
      "1. Rent a vehicle\n",
      "2. Return a vehicle\n",
      "3. Display available vehicles\n",
      "4. Exit\n"
     ]
    },
    {
     "name": "stdin",
     "output_type": "stream",
     "text": [
      "Enter your choice (1/2/3/4):  2\n",
      "How many vehicles do you want to return?  1\n"
     ]
    },
    {
     "name": "stdout",
     "output_type": "stream",
     "text": [
      "Returned 1 vehicle(s).\n",
      "\n",
      "Menu:\n",
      "1. Rent a vehicle\n",
      "2. Return a vehicle\n",
      "3. Display available vehicles\n",
      "4. Exit\n"
     ]
    },
    {
     "name": "stdin",
     "output_type": "stream",
     "text": [
      "Enter your choice (1/2/3/4):  3\n"
     ]
    },
    {
     "name": "stdout",
     "output_type": "stream",
     "text": [
      "Available vehicles: 9\n",
      "\n",
      "Menu:\n",
      "1. Rent a vehicle\n",
      "2. Return a vehicle\n",
      "3. Display available vehicles\n",
      "4. Exit\n"
     ]
    },
    {
     "name": "stdin",
     "output_type": "stream",
     "text": [
      "Enter your choice (1/2/3/4):  e\n"
     ]
    },
    {
     "name": "stdout",
     "output_type": "stream",
     "text": [
      "Invalid choice. Please select a valid option.\n",
      "\n",
      "Menu:\n",
      "1. Rent a vehicle\n",
      "2. Return a vehicle\n",
      "3. Display available vehicles\n",
      "4. Exit\n"
     ]
    },
    {
     "name": "stdin",
     "output_type": "stream",
     "text": [
      "Enter your choice (1/2/3/4):  e\n"
     ]
    },
    {
     "name": "stdout",
     "output_type": "stream",
     "text": [
      "Invalid choice. Please select a valid option.\n",
      "\n",
      "Menu:\n",
      "1. Rent a vehicle\n",
      "2. Return a vehicle\n",
      "3. Display available vehicles\n",
      "4. Exit\n"
     ]
    },
    {
     "name": "stdin",
     "output_type": "stream",
     "text": [
      "Enter your choice (1/2/3/4):  e\n"
     ]
    },
    {
     "name": "stdout",
     "output_type": "stream",
     "text": [
      "Invalid choice. Please select a valid option.\n",
      "You've entered invalid input three times. Exiting the interface.\n"
     ]
    }
   ],
   "source": [
    "class VehicleRentalSystem:\n",
    "    def __init__(self, available_vehicles):\n",
    "        self.available_vehicles = available_vehicles\n",
    "        self.rented_vehicles = []\n",
    "\n",
    "    def rent_vehicle(self):\n",
    "        try:\n",
    "            num_vehicles = int(input(\"How many vehicles do you want to rent? \"))\n",
    "            if num_vehicles <= self.available_vehicles:\n",
    "                self.available_vehicles -= num_vehicles\n",
    "                self.rented_vehicles.extend([None] * num_vehicles)\n",
    "                print(f\"Rented {num_vehicles} vehicle(s).\")\n",
    "            else:\n",
    "                print(\"Insufficient available vehicles.\")\n",
    "        except ValueError:\n",
    "            print(\"Invalid input. Please enter a valid number.\")\n",
    "\n",
    "    def return_vehicle(self):\n",
    "        try:\n",
    "            num_vehicles = int(input(\"How many vehicles do you want to return? \"))\n",
    "            if num_vehicles <= len(self.rented_vehicles):\n",
    "                self.available_vehicles += num_vehicles\n",
    "                self.rented_vehicles = self.rented_vehicles[:-num_vehicles]\n",
    "                print(f\"Returned {num_vehicles} vehicle(s).\")\n",
    "            else:\n",
    "                print(\"Invalid return request.\")\n",
    "        except ValueError:\n",
    "            print(\"Invalid input. Please enter a valid number.\")\n",
    "\n",
    "    def display_available_vehicles(self):\n",
    "        print(f\"Available vehicles: {self.available_vehicles}\")\n",
    "\n",
    "# Example usage:\n",
    "rental_system = VehicleRentalSystem(10)# Initialize with 10 available vehicles\n",
    "invalid_input_count = 0\n",
    "\n",
    "while True:\n",
    "    print(\"\\nMenu:\")\n",
    "    print(\"1. Rent a vehicle\")\n",
    "    print(\"2. Return a vehicle\")\n",
    "    print(\"3. Display available vehicles\")\n",
    "    print(\"4. Exit\")\n",
    "\n",
    "    choice = input(\"Enter your choice (1/2/3/4): \")\n",
    "\n",
    "    if choice == '1':\n",
    "        rental_system.rent_vehicle()\n",
    "    elif choice == '2':\n",
    "        rental_system.return_vehicle()\n",
    "    elif choice == '3':\n",
    "        rental_system.display_available_vehicles()\n",
    "    elif choice == '4':\n",
    "        print(\"Exiting the rental system. Goodbye!\")\n",
    "        break\n",
    "    else:\n",
    "        invalid_input_count += 1\n",
    "        print(\"Invalid choice. Please select a valid option.\")\n",
    "\n",
    "    # Check if the user has entered invalid input three times\n",
    "    if invalid_input_count >= 3:\n",
    "        print(\"You've entered invalid input three times. Exiting the interface.\")\n",
    "        break"
   ]
  },
  {
   "cell_type": "markdown",
   "id": "2d4a33ff-0110-400a-87fd-fce59d80b73e",
   "metadata": {},
   "source": [
    "Problem 4: Library Catalog Create classes representing a library and a book. Implement methods to add books to the library, borrow books, and display available books."
   ]
  },
  {
   "cell_type": "code",
   "execution_count": 12,
   "id": "e3f26680-1a17-41cf-ba73-58a55213f438",
   "metadata": {},
   "outputs": [
    {
     "name": "stdout",
     "output_type": "stream",
     "text": [
      "Library Contents:\n",
      "Available Books:\n",
      "'The Great Gatsby' by F. Scott Fitzgerald - Available\n",
      "'To Kill a Mockingbird' by Harper Lee - Available\n",
      "'1984' by George Orwell - Available\n",
      "\n",
      "Borrowing a book:\n",
      "Book 'The Great Gatsby' by F. Scott Fitzgerald has been borrowed.\n",
      "Book 'To Kill a Mockingbird' by Harper Lee has been borrowed.\n",
      "\n",
      "Library Contents after borrowing:\n",
      "Available Books:\n",
      "'1984' by George Orwell - Available\n",
      "\n",
      "Returning a book:\n",
      "Book 'The Great Gatsby' by F. Scott Fitzgerald has been returned.\n",
      "\n",
      "Library Contents after returning:\n",
      "Available Books:\n",
      "'The Great Gatsby' by F. Scott Fitzgerald - Available\n",
      "'1984' by George Orwell - Available\n"
     ]
    }
   ],
   "source": [
    "import logging\n",
    "\n",
    "class Book:\n",
    "    def __init__(self, title, author):\n",
    "        self.title = title\n",
    "        self.author = author\n",
    "        self.available = True\n",
    "\n",
    "    def borrow(self):\n",
    "        if self.available:\n",
    "            self.available = False\n",
    "            logging.info(f\"Book '{self.title}' by {self.author} has been borrowed.\")\n",
    "            return f\"Book '{self.title}' by {self.author} has been borrowed.\"\n",
    "        else:\n",
    "            logging.warning(f\"Book '{self.title}' is currently not available for borrowing.\")\n",
    "            return f\"Book '{self.title}' is currently not available for borrowing.\"\n",
    "\n",
    "    def return_book(self):\n",
    "        if not self.available:\n",
    "            self.available = True\n",
    "            logging.info(f\"Book '{self.title}' by {self.author} has been returned.\")\n",
    "            return f\"Book '{self.title}' by {self.author} has been returned.\"\n",
    "        else:\n",
    "            logging.warning(f\"Book '{self.title}' is already available in the library.\")\n",
    "            return f\"Book '{self.title}' is already available in the library.\"\n",
    "\n",
    "    def __str__(self):\n",
    "        availability = \"Available\" if self.available else \"Not Available\"\n",
    "        return f\"'{self.title}' by {self.author} - {availability}\"\n",
    "\n",
    "class Library:\n",
    "    def __init__(self):\n",
    "        self.books = []\n",
    "\n",
    "    def add_book(self, book):\n",
    "        try:\n",
    "            if isinstance(book, Book):\n",
    "                self.books.append(book)\n",
    "                logging.info(f\"Book '{book.title}' by {book.author} added to the library.\")\n",
    "            else:\n",
    "                raise TypeError(\"Invalid book object provided.\")\n",
    "        except TypeError as e:\n",
    "            logging.error(f\"Error adding book: {e}\")\n",
    "\n",
    "    def display_available_books(self):\n",
    "        available_books = [book for book in self.books if book.available]\n",
    "        if available_books:\n",
    "            print(\"Available Books:\")\n",
    "            for book in available_books:\n",
    "                print(book)\n",
    "        else:\n",
    "            print(\"No books are currently available in the library.\")\n",
    "\n",
    "# Example usage:\n",
    "library = Library()\n",
    "\n",
    "book1 = Book(\"The Great Gatsby\", \"F. Scott Fitzgerald\")\n",
    "book2 = Book(\"To Kill a Mockingbird\", \"Harper Lee\")\n",
    "book3 = Book(\"1984\", \"George Orwell\")\n",
    "\n",
    "library.add_book(book1)\n",
    "library.add_book(book2)\n",
    "library.add_book(book3)\n",
    "\n",
    "print(\"Library Contents:\")\n",
    "library.display_available_books()\n",
    "\n",
    "print(\"\\nBorrowing a book:\")\n",
    "print(book1.borrow())\n",
    "print(book2.borrow())\n",
    "\n",
    "print(\"\\nLibrary Contents after borrowing:\")\n",
    "library.display_available_books()\n",
    "\n",
    "print(\"\\nReturning a book:\")\n",
    "print(book1.return_book())\n",
    "\n",
    "print(\"\\nLibrary Contents after returning:\")\n",
    "library.display_available_books()\n"
   ]
  },
  {
   "cell_type": "markdown",
   "id": "ce96fd35-09db-4fd5-9d9f-41070ddc67d9",
   "metadata": {},
   "source": [
    "Problem 5: Product Inventory Create classes representing a product and an inventory system. Implement methods to add products to the inventory, update product quantity, and display available products."
   ]
  },
  {
   "cell_type": "code",
   "execution_count": 12,
   "id": "4698cee2-1c30-4037-aafb-44eacdcc43d1",
   "metadata": {},
   "outputs": [
    {
     "name": "stdout",
     "output_type": "stream",
     "text": [
      "Available Products:\n",
      "Product ID: 1, Name: Laptop, Price: 800, Quantity: 10\n",
      "Product ID: 2, Name: Phone, Price: 500, Quantity: 15\n",
      "Product ID: 3, Name: Tablet, Price: 300, Quantity: 5\n",
      "Available Products:\n",
      "Product ID: 1, Name: Laptop, Price: 800, Quantity: 10\n",
      "Product ID: 2, Name: Phone, Price: 500, Quantity: 12\n",
      "Product ID: 3, Name: Tablet, Price: 300, Quantity: 5\n"
     ]
    }
   ],
   "source": [
    "import logging\n",
    "\n",
    "# Configure logging to save messages to a file\n",
    "logging.basicConfig(filename='inventory.log', level=logging.INFO, format='%(asctime)s - %(message)s')\n",
    "\n",
    "class Product:\n",
    "    def __init__(self, product_id, name, price, quantity):\n",
    "        self.product_id = product_id\n",
    "        self.name = name\n",
    "        self.price = price\n",
    "        self.quantity = quantity\n",
    "\n",
    "    def __str__(self):\n",
    "        return f\"Product ID: {self.product_id}, Name: {self.name}, Price: {self.price}, Quantity: {self.quantity}\"\n",
    "\n",
    "class Inventory:\n",
    "    def __init__(self):\n",
    "        self.products = []\n",
    "\n",
    "    def add_product(self, product):\n",
    "        try:\n",
    "            if isinstance(product, Product):\n",
    "                self.products.append(product)\n",
    "                logging.info(f\"Product '{product.name}' added to the inventory.\")\n",
    "            else:\n",
    "                raise TypeError(\"Invalid product object provided.\")\n",
    "        except TypeError as e:\n",
    "            logging.error(f\"Error adding product: {e}\")\n",
    "\n",
    "    def update_quantity(self, product_id, new_quantity):\n",
    "        try:\n",
    "            product = next((p for p in self.products if p.product_id == product_id), None)\n",
    "            if product:\n",
    "                product.quantity = new_quantity\n",
    "                logging.info(f\"Quantity of product '{product.name}' updated to {new_quantity}.\")\n",
    "            else:\n",
    "                raise ValueError(f\"Product with ID {product_id} not found in the inventory.\")\n",
    "        except ValueError as e:\n",
    "            logging.error(f\"Error updating quantity: {e}\")\n",
    "\n",
    "    def display_available_products(self):\n",
    "        available_products = [product for product in self.products if product.quantity > 0]\n",
    "        if available_products:\n",
    "            print(\"Available Products:\")\n",
    "            for product in available_products:\n",
    "                print(product)\n",
    "        else:\n",
    "            print(\"No products are currently available in the inventory.\")\n",
    "\n",
    "# Example usage:\n",
    "inventory = Inventory()\n",
    "\n",
    "product1 = Product(1, \"Laptop\", 800, 10)\n",
    "product2 = Product(2, \"Phone\", 500, 15)\n",
    "product3 = Product(3, \"Tablet\", 300, 5)\n",
    "\n",
    "inventory.add_product(product1)\n",
    "inventory.add_product(product2)\n",
    "inventory.add_product(product3)\n",
    "\n",
    "inventory.display_available_products()\n",
    "\n",
    "inventory.update_quantity(2, 12)\n",
    "inventory.display_available_products()\n"
   ]
  },
  {
   "cell_type": "code",
   "execution_count": 4,
   "id": "a28643d3-e336-403d-86e0-5da3f3a5768d",
   "metadata": {},
   "outputs": [
    {
     "data": {
      "text/plain": [
       "'/home/jovyan/work'"
      ]
     },
     "execution_count": 4,
     "metadata": {},
     "output_type": "execute_result"
    }
   ],
   "source": [
    "pwd\n"
   ]
  },
  {
   "cell_type": "markdown",
   "id": "5cb44b21-a9c0-4498-b93b-62ae1be3188a",
   "metadata": {},
   "source": [
    "Problem 6: Shape Calculation Create a class representing a shape with attributes like length, width, and height. Implement methods to calculate the area and perimeter of the shape."
   ]
  },
  {
   "cell_type": "code",
   "execution_count": 6,
   "id": "52e5e205-aa18-43ce-879d-aed63f8bfaf9",
   "metadata": {},
   "outputs": [
    {
     "name": "stdin",
     "output_type": "stream",
     "text": [
      "Enter the shape (rectangle/triangle):  rectangle\n",
      "Enter the length:  23\n",
      "Enter the width:  12\n"
     ]
    },
    {
     "name": "stdout",
     "output_type": "stream",
     "text": [
      "Rectangle Area: 276.0\n",
      "Rectangle Perimeter: 70.0\n"
     ]
    }
   ],
   "source": [
    "class Shape:\n",
    "    def __init__(self, length, width, height):\n",
    "        self.length = length\n",
    "        self.width = width\n",
    "        self.height = height\n",
    "\n",
    "    def calculate_area(self):\n",
    "        pass\n",
    "\n",
    "    def calculate_perimeter(self):\n",
    "        pass\n",
    "\n",
    "class Rectangle(Shape):\n",
    "    def calculate_area(self):\n",
    "        return self.length * self.width\n",
    "\n",
    "    def calculate_perimeter(self):\n",
    "        return 2 * (self.length + self.width)\n",
    "\n",
    "class Triangle(Shape):\n",
    "    def calculate_area(self):\n",
    "        # Calculate the area \n",
    "        s = (self.length + self.width + self.height) / 2\n",
    "        area = (s * (s - self.length) * (s - self.width) * (s - self.height)) ** 0.5\n",
    "        return area\n",
    "\n",
    "    def calculate_perimeter(self):\n",
    "        return self.length + self.width + self.height\n",
    "\n",
    "def main():\n",
    "    try:\n",
    "        shape_type = input(\"Enter the shape (rectangle/triangle): \").lower()\n",
    "\n",
    "        if shape_type == \"rectangle\":\n",
    "            length = float(input(\"Enter the length: \"))\n",
    "            width = float(input(\"Enter the width: \"))\n",
    "            height = 0  # No height for a rectangle\n",
    "\n",
    "            if length <= 0 or width <= 0:  # Only check length and width for rectangle\n",
    "                raise ValueError(\"Invalid dimensions. Length and width must be positive values.\")\n",
    "\n",
    "        elif shape_type == \"triangle\":\n",
    "            length = float(input(\"Enter the length of side 1: \"))\n",
    "            width = float(input(\"Enter the length of side 2: \"))\n",
    "            height = float(input(\"Enter the length of side 3: \"))\n",
    "\n",
    "            if length <= 0 or width <= 0 or height <= 0:\n",
    "                raise ValueError(\"Invalid dimensions. Length, width, and height must be positive values.\")\n",
    "\n",
    "        else:\n",
    "            raise ValueError(\"Invalid shape type. Please enter 'rectangle' or 'triangle'.\")\n",
    "\n",
    "        if shape_type == \"rectangle\":\n",
    "            shape = Rectangle(length, width, 0)\n",
    "        else:\n",
    "            shape = Triangle(length, width, height)\n",
    "\n",
    "        print(f\"{shape_type.capitalize()} Area: {shape.calculate_area()}\")\n",
    "        print(f\"{shape_type.capitalize()} Perimeter: {shape.calculate_perimeter()}\")\n",
    "    except ValueError as e:\n",
    "        print(f\"Error: {e}\")\n",
    "    except Exception as e:\n",
    "        print(f\"An unexpected error occurred: {e}\")\n",
    "\n",
    "if __name__ == \"__main__\":\n",
    "    main()\n"
   ]
  },
  {
   "cell_type": "markdown",
   "id": "5bb98455-a864-45ea-9bb1-190c8cbc3298",
   "metadata": {},
   "source": [
    "Problem 7: Student Management Create a class representing a student with attributes like student ID, name, and grades. Implement methods to calculate the average grade and display student details."
   ]
  },
  {
   "cell_type": "code",
   "execution_count": 7,
   "id": "740e1d37-6f8a-448b-87bc-8afdbcfd2288",
   "metadata": {},
   "outputs": [
    {
     "name": "stdin",
     "output_type": "stream",
     "text": [
      "Enter student ID:  12\n",
      "Enter student name:  vivek\n",
      "Enter a grade (or a negative number to finish):  79\n"
     ]
    },
    {
     "name": "stdout",
     "output_type": "stream",
     "text": [
      "Grade 79.0 added for vivek.\n"
     ]
    },
    {
     "name": "stdin",
     "output_type": "stream",
     "text": [
      "Enter a grade (or a negative number to finish):  45\n"
     ]
    },
    {
     "name": "stdout",
     "output_type": "stream",
     "text": [
      "Grade 45.0 added for vivek.\n"
     ]
    },
    {
     "name": "stdin",
     "output_type": "stream",
     "text": [
      "Enter a grade (or a negative number to finish):  98\n"
     ]
    },
    {
     "name": "stdout",
     "output_type": "stream",
     "text": [
      "Grade 98.0 added for vivek.\n"
     ]
    },
    {
     "name": "stdin",
     "output_type": "stream",
     "text": [
      "Enter a grade (or a negative number to finish):  101\n"
     ]
    },
    {
     "name": "stdout",
     "output_type": "stream",
     "text": [
      "Error: Invalid grade. Grades must be between 0 and 100.\n"
     ]
    },
    {
     "name": "stdin",
     "output_type": "stream",
     "text": [
      "Enter a grade (or a negative number to finish):  87\n"
     ]
    },
    {
     "name": "stdout",
     "output_type": "stream",
     "text": [
      "Grade 87.0 added for vivek.\n"
     ]
    },
    {
     "name": "stdin",
     "output_type": "stream",
     "text": [
      "Enter a grade (or a negative number to finish):  44\n"
     ]
    },
    {
     "name": "stdout",
     "output_type": "stream",
     "text": [
      "Grade 44.0 added for vivek.\n"
     ]
    },
    {
     "name": "stdin",
     "output_type": "stream",
     "text": [
      "Enter a grade (or a negative number to finish):  78\n"
     ]
    },
    {
     "name": "stdout",
     "output_type": "stream",
     "text": [
      "Grade 78.0 added for vivek.\n"
     ]
    },
    {
     "name": "stdin",
     "output_type": "stream",
     "text": [
      "Enter a grade (or a negative number to finish):  -9\n"
     ]
    },
    {
     "name": "stdout",
     "output_type": "stream",
     "text": [
      "Student ID: 12\n",
      "Name: vivek\n",
      "Grades: [79.0, 45.0, 98.0, 87.0, 44.0, 78.0]\n",
      "Average Grade: 71.83\n"
     ]
    }
   ],
   "source": [
    "class Student:\n",
    "    def __init__(self, student_id, name):\n",
    "        self.student_id = student_id\n",
    "        self.name = name\n",
    "        self.grades = []\n",
    "\n",
    "    def add_grade(self, grade):\n",
    "        try:\n",
    "            if 0 <= grade <= 100:\n",
    "                self.grades.append(grade)\n",
    "                print(f\"Grade {grade} added for {self.name}.\")\n",
    "            else:\n",
    "                raise ValueError(\"Invalid grade. Grades must be between 0 and 100.\")\n",
    "        except ValueError as e:\n",
    "            print(f\"Error: {e}\")\n",
    "\n",
    "    def calculate_average_grade(self):\n",
    "        if len(self.grades) == 0:\n",
    "            return 0  # Return 0 if there are no grades to calculate an average from\n",
    "        return sum(self.grades) / len(self.grades)\n",
    "\n",
    "    def display_student_details(self):\n",
    "        print(f\"Student ID: {self.student_id}\")\n",
    "        print(f\"Name: {self.name}\")\n",
    "        print(\"Grades:\", self.grades)\n",
    "        print(f\"Average Grade: {self.calculate_average_grade():.2f}\")\n",
    "\n",
    "def main():\n",
    "    try:\n",
    "        student_id = input(\"Enter student ID: \")\n",
    "        name = input(\"Enter student name: \")\n",
    "        student = Student(student_id, name)\n",
    "\n",
    "        while True:\n",
    "            try:\n",
    "                grade = float(input(\"Enter a grade (or a negative number to finish): \"))\n",
    "                if grade < 0:\n",
    "                    break\n",
    "                student.add_grade(grade)\n",
    "            except ValueError:\n",
    "                print(\"Invalid input. Please enter a valid grade between 0 and 100.\")\n",
    "\n",
    "        student.display_student_details()\n",
    "    except Exception as e:\n",
    "        print(f\"An unexpected error occurred: {e}\")\n",
    "\n",
    "if __name__ == \"__main__\":\n",
    "    main()\n"
   ]
  },
  {
   "cell_type": "markdown",
   "id": "bfeb3e7f-95cb-43a8-9440-520213f1a1d0",
   "metadata": {},
   "source": [
    "Problem 8: Email Management Create a class representing an email with attributes like sender, recipient, and subject. Implement methods to send an email and display email details."
   ]
  },
  {
   "cell_type": "code",
   "execution_count": 2,
   "id": "74fb6b44-3ff5-4851-8a5d-cfbce6567fc6",
   "metadata": {},
   "outputs": [
    {
     "name": "stdin",
     "output_type": "stream",
     "text": [
      "Enter sender's email address:  vijiender@gmail.com\n",
      "Enter recipient's email address:  viveknaidu@aai.aero\n",
      "Enter email subject:  status of work\n",
      "Compose your email:  given tasks are completed in time\n"
     ]
    },
    {
     "name": "stdout",
     "output_type": "stream",
     "text": [
      "Email composed: status of work\n",
      "Email sent from vijiender@gmail.com to viveknaidu@aai.aero\n",
      "Sender: vijiender@gmail.com\n",
      "Recipient: viveknaidu@aai.aero\n",
      "Subject: status of work\n",
      "Content: given tasks are completed in time\n"
     ]
    }
   ],
   "source": [
    "class Email:\n",
    "    def __init__(self, sender, recipient, subject):\n",
    "        self.sender = sender\n",
    "        self.recipient = recipient\n",
    "        self.subject = subject\n",
    "        self.content = \"\"\n",
    "\n",
    "    def compose_email(self, content):\n",
    "        self.content = content\n",
    "        print(f\"Email composed: {self.subject}\")\n",
    "\n",
    "    def send_email(self):\n",
    "        try:\n",
    "            if self.content:\n",
    "                print(f\"Email sent from {self.sender} to {self.recipient}\")\n",
    "            else:\n",
    "                raise ValueError(\"Email cannot be sent with an empty content.\")\n",
    "        except ValueError as e:\n",
    "            print(f\"Error: {e}\")\n",
    "\n",
    "    def display_email_details(self):\n",
    "        print(f\"Sender: {self.sender}\")\n",
    "        print(f\"Recipient: {self.recipient}\")\n",
    "        print(f\"Subject: {self.subject}\")\n",
    "        print(f\"Content: {self.content}\")\n",
    "\n",
    "def main():\n",
    "    try:\n",
    "        sender = input(\"Enter sender's email address: \")\n",
    "        recipient = input(\"Enter recipient's email address: \")\n",
    "        subject = input(\"Enter email subject: \")\n",
    "        \n",
    "        email = Email(sender, recipient, subject)\n",
    "        content = input(\"Compose your email: \")\n",
    "        email.compose_email(content)\n",
    "\n",
    "        email.send_email()\n",
    "        email.display_email_details()\n",
    "    except Exception as e:\n",
    "        print(f\"An unexpected error occurred: {e}\")\n",
    "\n",
    "if __name__ == \"__main__\":\n",
    "    main()\n"
   ]
  },
  {
   "cell_type": "markdown",
   "id": "19156fe9-b136-4aed-bdaa-21d5b0ad583d",
   "metadata": {},
   "source": [
    "Problem 9: Social Media Profile Create a class representing a social media profile with attributes like username and posts. Implement methods to add posts, display posts, and search for posts by keyword."
   ]
  },
  {
   "cell_type": "code",
   "execution_count": 13,
   "id": "1f92b187-5ee2-419f-8fd9-89cb29c6aa7e",
   "metadata": {},
   "outputs": [
    {
     "name": "stdin",
     "output_type": "stream",
     "text": [
      "Enter your username:  vivek891\n"
     ]
    },
    {
     "name": "stdout",
     "output_type": "stream",
     "text": [
      "\n",
      "Menu:\n",
      "1. Add a new post\n",
      "2. Display your posts\n",
      "3. Search for posts by keyword\n",
      "4. Exit\n"
     ]
    },
    {
     "name": "stdin",
     "output_type": "stream",
     "text": [
      "Enter your choice (1/2/3/4):  hi\n"
     ]
    },
    {
     "name": "stdout",
     "output_type": "stream",
     "text": [
      "Invalid choice. Please select a valid option.\n",
      "\n",
      "Menu:\n",
      "1. Add a new post\n",
      "2. Display your posts\n",
      "3. Search for posts by keyword\n",
      "4. Exit\n"
     ]
    },
    {
     "name": "stdin",
     "output_type": "stream",
     "text": [
      "Enter your choice (1/2/3/4):  2\n"
     ]
    },
    {
     "name": "stdout",
     "output_type": "stream",
     "text": [
      "vivek891's profile has no posts.\n",
      "\n",
      "Menu:\n",
      "1. Add a new post\n",
      "2. Display your posts\n",
      "3. Search for posts by keyword\n",
      "4. Exit\n"
     ]
    },
    {
     "name": "stdin",
     "output_type": "stream",
     "text": [
      "Enter your choice (1/2/3/4):  4\n"
     ]
    },
    {
     "name": "stdout",
     "output_type": "stream",
     "text": [
      "Exiting the social media profile. Goodbye!\n"
     ]
    }
   ],
   "source": [
    "import logging\n",
    "\n",
    "logging.basicConfig(filename='social_media.log', level=logging.INFO, format='%(asctime)s - %(message)s')\n",
    "\n",
    "class SocialMediaProfile:\n",
    "    def __init__(self, username):\n",
    "        self.username = username\n",
    "        self.posts = []\n",
    "\n",
    "    def add_post(self, content):\n",
    "        try:\n",
    "            if content:\n",
    "                self.posts.append(content)\n",
    "                logging.info(f\"{self.username} added a new post: {content}\")\n",
    "                print(\"Post added successfully.\")\n",
    "            else:\n",
    "                raise ValueError(\"Post content cannot be empty.\")\n",
    "        except ValueError as e:\n",
    "            logging.error(f\"Error adding post: {e}\")\n",
    "            print(f\"Error: {e}\")\n",
    "\n",
    "    def display_posts(self):\n",
    "        if not self.posts:\n",
    "            print(f\"{self.username}'s profile has no posts.\")\n",
    "        else:\n",
    "            print(f\"{self.username}'s posts:\")\n",
    "            for index, post in enumerate(self.posts, start=1):\n",
    "                print(f\"{index}. {post}\")\n",
    "\n",
    "    def search_posts(self, keyword):\n",
    "        matching_posts = [post for post in self.posts if keyword.lower() in post.lower()]\n",
    "        if matching_posts:\n",
    "            print(f\"Posts containing '{keyword}':\")\n",
    "            for index, post in enumerate(matching_posts, start=1):\n",
    "                print(f\"{index}. {post}\")\n",
    "        else:\n",
    "            print(f\"No posts found containing '{keyword}'.\")\n",
    "\n",
    "def main():\n",
    "    try:\n",
    "        username = input(\"Enter your username: \")\n",
    "        profile = SocialMediaProfile(username)\n",
    "\n",
    "        while True:\n",
    "            print(\"\\nMenu:\")\n",
    "            print(\"1. Add a new post\")\n",
    "            print(\"2. Display your posts\")\n",
    "            print(\"3. Search for posts by keyword\")\n",
    "            print(\"4. Exit\")\n",
    "\n",
    "            choice = input(\"Enter your choice (1/2/3/4): \")\n",
    "\n",
    "            if choice == '1':\n",
    "                content = input(\"Enter your post content: \")\n",
    "                profile.add_post(content)\n",
    "            elif choice == '2':\n",
    "                profile.display_posts()\n",
    "            elif choice == '3':\n",
    "                keyword = input(\"Enter a keyword to search for posts: \")\n",
    "                profile.search_posts(keyword)\n",
    "            elif choice == '4':\n",
    "                print(\"Exiting the social media profile. Goodbye!\")\n",
    "                break\n",
    "            else:\n",
    "                print(\"Invalid choice. Please select a valid option.\")\n",
    "    except Exception as e:\n",
    "        print(f\"An unexpected error occurred: {e}\")\n",
    "\n",
    "if __name__ == \"__main__\":\n",
    "    main()\n"
   ]
  },
  {
   "cell_type": "markdown",
   "id": "8f0bce03-01a9-473e-b07c-33e863163ade",
   "metadata": {},
   "source": [
    "Problem 10: ToDo List Create a class representing a ToDo list with attributes like tasks and due dates. Implement methods to add tasks, mark tasks as completed, and display pending tasks."
   ]
  },
  {
   "cell_type": "code",
   "execution_count": 11,
   "id": "6d153d20-dab2-434c-bbd1-a068c31399c2",
   "metadata": {},
   "outputs": [
    {
     "data": {
      "text/plain": [
       "'/home/jovyan/work'"
      ]
     },
     "execution_count": 11,
     "metadata": {},
     "output_type": "execute_result"
    }
   ],
   "source": [
    "pwd"
   ]
  },
  {
   "cell_type": "code",
   "execution_count": 15,
   "id": "1787f6a5-d93d-401c-9965-18b98f83c752",
   "metadata": {},
   "outputs": [
    {
     "name": "stdout",
     "output_type": "stream",
     "text": [
      "\n",
      "Menu:\n",
      "1. Add a new task\n",
      "2. Mark a task as completed\n",
      "3. Display pending tasks\n",
      "4. Exit\n"
     ]
    },
    {
     "name": "stdin",
     "output_type": "stream",
     "text": [
      "Enter your choice (1/2/3/4):  1\n",
      "Enter the task description:  assignment 1 00ps\n",
      "Enter the due date (YYYY-MM-DD):  2023-10-25\n"
     ]
    },
    {
     "name": "stdout",
     "output_type": "stream",
     "text": [
      "\n",
      "Menu:\n",
      "1. Add a new task\n",
      "2. Mark a task as completed\n",
      "3. Display pending tasks\n",
      "4. Exit\n"
     ]
    },
    {
     "name": "stdin",
     "output_type": "stream",
     "text": [
      "Enter your choice (1/2/3/4):  1\n",
      "Enter the task description:  assignment 2 oops\n",
      "Enter the due date (YYYY-MM-DD):  2023-10-23\n"
     ]
    },
    {
     "name": "stdout",
     "output_type": "stream",
     "text": [
      "\n",
      "Menu:\n",
      "1. Add a new task\n",
      "2. Mark a task as completed\n",
      "3. Display pending tasks\n",
      "4. Exit\n"
     ]
    },
    {
     "name": "stdin",
     "output_type": "stream",
     "text": [
      "Enter your choice (1/2/3/4):  2\n",
      "Enter the task index to mark as completed:  1\n"
     ]
    },
    {
     "name": "stdout",
     "output_type": "stream",
     "text": [
      "Task 'assignment 1 00ps' marked as completed.\n",
      "\n",
      "Menu:\n",
      "1. Add a new task\n",
      "2. Mark a task as completed\n",
      "3. Display pending tasks\n",
      "4. Exit\n"
     ]
    },
    {
     "name": "stdin",
     "output_type": "stream",
     "text": [
      "Enter your choice (1/2/3/4):  3\n"
     ]
    },
    {
     "name": "stdout",
     "output_type": "stream",
     "text": [
      "Pending Tasks:\n",
      "1. assignment 2 oops (Due: 2023-10-23 00:00:00)\n",
      "\n",
      "Menu:\n",
      "1. Add a new task\n",
      "2. Mark a task as completed\n",
      "3. Display pending tasks\n",
      "4. Exit\n"
     ]
    },
    {
     "name": "stdin",
     "output_type": "stream",
     "text": [
      "Enter your choice (1/2/3/4):  4\n"
     ]
    },
    {
     "name": "stdout",
     "output_type": "stream",
     "text": [
      "Exiting the ToDo list. Goodbye!\n"
     ]
    }
   ],
   "source": [
    "import logging\n",
    "import datetime\n",
    "\n",
    "# Set up logging\n",
    "logging.basicConfig(filename='todo.log', level=logging.INFO, format='%(asctime)s - %(message)s')\n",
    "\n",
    "def log_exceptions(func):\n",
    "    def wrapper(*args, **kwargs):\n",
    "        try:\n",
    "            return func(*args, **kwargs)\n",
    "        except Exception as e:\n",
    "            logging.error(f\"Error: {e}\")\n",
    "            print(f\"An unexpected error occurred: {e}\")\n",
    "    return wrapper\n",
    "\n",
    "class ToDoList:\n",
    "    def __init__(self):\n",
    "        self.tasks = []\n",
    "\n",
    "    @log_exceptions\n",
    "    def add_task(self, task, due_date):\n",
    "        if not task:\n",
    "            raise ValueError(\"Task description cannot be empty.\")\n",
    "        due_date = self._parse_due_date(due_date)\n",
    "        self.tasks.append({\"task\": task, \"due_date\": due_date})\n",
    "        logging.info(f\"Task added: {task}\")\n",
    "\n",
    "    @log_exceptions\n",
    "    def mark_task_completed(self, task_index):\n",
    "        try:\n",
    "            task = self.tasks[task_index]\n",
    "            task[\"completed\"] = True\n",
    "            logging.info(f\"Task marked as completed: {task['task']}\")\n",
    "            print(f\"Task '{task['task']}' marked as completed.\")\n",
    "        except (IndexError, KeyError):\n",
    "            raise ValueError(\"Invalid task index.\")\n",
    "\n",
    "    @log_exceptions\n",
    "    def display_pending_tasks(self):\n",
    "        pending_tasks = [task for task in self.tasks if not task.get(\"completed\", False)]\n",
    "        if pending_tasks:\n",
    "            print(\"Pending Tasks:\")\n",
    "            for index, task in enumerate(pending_tasks, start=1):\n",
    "                print(f\"{index}. {task['task']} (Due: {task['due_date']})\")\n",
    "        else:\n",
    "            print(\"No pending tasks found.\")\n",
    "\n",
    "    def _parse_due_date(self, due_date):\n",
    "        try:\n",
    "            return datetime.datetime.strptime(due_date, \"%Y-%m-%d\")\n",
    "        except ValueError:\n",
    "            raise ValueError(\"Invalid due date format. Use YYYY-MM-DD.\")\n",
    "\n",
    "def main():\n",
    "    try:\n",
    "        todo = ToDoList()\n",
    "\n",
    "        while True:\n",
    "            print(\"\\nMenu:\")\n",
    "            print(\"1. Add a new task\")\n",
    "            print(\"2. Mark a task as completed\")\n",
    "            print(\"3. Display pending tasks\")\n",
    "            print(\"4. Exit\")\n",
    "\n",
    "            choice = input(\"Enter your choice (1/2/3/4): \")\n",
    "\n",
    "            if choice == '1':\n",
    "                task = input(\"Enter the task description: \")\n",
    "                due_date = input(\"Enter the due date (YYYY-MM-DD): \")\n",
    "                todo.add_task(task, due_date)\n",
    "            elif choice == '2':\n",
    "                task_index = int(input(\"Enter the task index to mark as completed: \"))\n",
    "                todo.mark_task_completed(task_index - 1)\n",
    "            elif choice == '3':\n",
    "                todo.display_pending_tasks()\n",
    "            elif choice == '4':\n",
    "                print(\"Exiting the ToDo list. Goodbye!\")\n",
    "                break\n",
    "            else:\n",
    "                print(\"Invalid choice. Please select a valid option.\")\n",
    "    except Exception as e:\n",
    "        print(f\"An unexpected error occurred: {e}\")\n",
    "\n",
    "if __name__ == \"__main__\":\n",
    "    main()\n"
   ]
  },
  {
   "cell_type": "code",
   "execution_count": null,
   "id": "3336805c-4182-49b8-9dc2-cb94e18e7ab9",
   "metadata": {},
   "outputs": [],
   "source": []
  }
 ],
 "metadata": {
  "kernelspec": {
   "display_name": "Python 3 (ipykernel)",
   "language": "python",
   "name": "python3"
  },
  "language_info": {
   "codemirror_mode": {
    "name": "ipython",
    "version": 3
   },
   "file_extension": ".py",
   "mimetype": "text/x-python",
   "name": "python",
   "nbconvert_exporter": "python",
   "pygments_lexer": "ipython3",
   "version": "3.10.8"
  }
 },
 "nbformat": 4,
 "nbformat_minor": 5
}
